{
 "cells": [
  {
   "cell_type": "markdown",
   "id": "f8b337ed",
   "metadata": {},
   "source": [
    "# ΕΚΔΔΑ - Python-A\n",
    "\n",
    "Ονοματεπώνυμο επιμορφούμενου: [συμπληρώστε εδώ το ονομά σας]\n",
    "\n",
    "## Εβδομάδα 2 - Τμηματικός Προγραμματισμός"
   ]
  },
  {
   "cell_type": "markdown",
   "id": "3fc2a81b",
   "metadata": {},
   "source": [
    "### Παράμετροι και ορίσματα\n",
    "2.1 Γράψτε κώδικα που να μετατρέπει μια απόσταση από χιλιόμετρα σε μίλια χρησιμοποιώντας τμηματικό προγραμματισμό, δηλαδή με τη χρήση συνάρτησης. Δημιουργήστε μια συνάρτηση `km_to_miles(km)` που δέχεται μια απόσταση σε αριθμό χιλιομέτρων και επιστρέφει την αντίστοιχη απόσταση σε μίλια (1 μίλι = 1.60934 χιλιόμετρα). Καλέστε τη συνάρτηση για τα ακόλουθα ορίσματα σε μια επανάληψη: 1km, 2km, 5km, 10km, 100km, 500km."
   ]
  },
  {
   "cell_type": "code",
   "execution_count": null,
   "id": "741c978d",
   "metadata": {},
   "outputs": [
    {
     "name": "stdout",
     "output_type": "stream",
     "text": [
      "1 χλμ = 0.62 μίλια\n",
      "2 χλμ = 1.24 μίλια\n",
      "5 χλμ = 3.11 μίλια\n",
      "10 χλμ = 6.21 μίλια\n",
      "100 χλμ = 62.14 μίλια\n",
      "500 χλμ = 310.69 μίλια\n"
     ]
    }
   ],
   "source": [
    "# Λύση 2.1\n",
    "\n",
    "\n",
    "def km_to_miles(km):\n",
    "    return km / 1.60934\n",
    "\n",
    "\n",
    "distances_km = [1, 2, 5, 10, 100, 500]\n",
    "for km in distances_km:\n",
    "    miles = km_to_miles(km)\n",
    "    print(f\"{km} χλμ = {miles:.2f} μίλια\")"
   ]
  },
  {
   "cell_type": "markdown",
   "id": "6bcd25f8",
   "metadata": {},
   "source": [
    "## Προαιρετικά ορίσματα, προκαθορισμένες τιμές συναρτήσεων\n",
    "2.2 Γράψτε κώδικα που να ορίζει μια συνάρτηση `shipping_cost(weight, express=False)` η οποία δέχεται ως υποχρεωτικό όρισμα το βάρος ενός δέματος σε κιλά και προαιρετικά μια λογική παράμετρο `express` με προκαθορισμένη τιμή `False`. Η συνάρτηση να υπολογίζει το βασικό κόστος αποστολής ως 5€ για βάρη μέχρι 2 κιλά και για βάρη πάνω από 2 κιλά να υπολογίζει το κόστος ως 8€ συν 2€ για κάθε κιλό πάνω από τα 8 κιλά (τα βάρος να στογυλλοποιείται στον πλησιέστερο ακέραιο). Αν η παράμετρος express είναι True, τότε να προστίθεται προσαύξηση 50% στο κόστος.\n",
    "\n",
    "Καλέστε τη συνάρτηση για διάφορες τιμές ορισμάτων έτσι ώστε να επιδεικνύεται η χρήση του προαιρετικού ορίσματος."
   ]
  },
  {
   "cell_type": "code",
   "execution_count": null,
   "id": "0f9dfe49",
   "metadata": {},
   "outputs": [
    {
     "name": "stdout",
     "output_type": "stream",
     "text": [
      "1 κιλό (απλό): 5\n",
      "2 κιλά (express): 7.5\n",
      "5 κιλά (απλό): 8\n",
      "8.4 κιλά (express): 6.0\n",
      "12 κιλά (απλό): 12\n",
      "20 κιλά (express): 42.0\n"
     ]
    }
   ],
   "source": [
    "# Λύση 2.2\n",
    "\n",
    "def shipping_cost(weight, express=False):\n",
    "    if weight <= 2:\n",
    "        cost = 5\n",
    "    elif weight <= 6:\n",
    "        cost = 8\n",
    "    else:\n",
    "        weight = round(weight)\n",
    "        cost = 8 + 2 * (weight - 10)\n",
    "\n",
    "    if express:\n",
    "        cost *= 1.5\n",
    "\n",
    "    return cost\n",
    "\n",
    "\n",
    "print(\"1 κιλό (απλό):\", shipping_cost(1))\n",
    "print(\"2 κιλά (express):\", shipping_cost(2, express=True))\n",
    "print(\"5 κιλά (απλό):\", shipping_cost(5))\n",
    "print(\"8.4 κιλά (express):\", shipping_cost(8.4, express=True))\n",
    "print(\"12 κιλά (απλό):\", shipping_cost(12))\n",
    "print(\"20 κιλά (express):\", shipping_cost(20, express=True))"
   ]
  },
  {
   "cell_type": "markdown",
   "id": "19f4ab8b",
   "metadata": {},
   "source": [
    "## Ορίσματα τύπου *args\n",
    "\n",
    "2.3 Γράψτε κώδικα που να ορίζει μια συνάρτηση `stats(*args)` η οποία δέχεται οποιονδήποτε αριθμό από αριθμητικά ορίσματα και επιστρέφει τα ακόλουθα: το πλήθος των αριθμών, το μέγιστο, το ελάχιστο και το άθροισμά τους. Αν δεν δοθεί κανένα όρισμα, η συνάρτηση να επιστρέφει το μήνυμα \"Δεν δόθηκαν αριθμοί\". Καλέστε τη συνάρτηση με διαφορετικά πλήθη ορισμάτων (π.χ. 3, 5, 0 αριθμούς) ώστε να φανεί η λειτουργία της."
   ]
  },
  {
   "cell_type": "code",
   "execution_count": 6,
   "id": "22a8a73e",
   "metadata": {},
   "outputs": [
    {
     "name": "stdout",
     "output_type": "stream",
     "text": [
      "(3, 10, 3, 18)\n",
      "(5, 5, 1, 15)\n",
      "Δεν δόθηκαν αριθμοί\n"
     ]
    }
   ],
   "source": [
    "# Λύση 2.3\n",
    "\n",
    "def stats(*args):\n",
    "    if not args:\n",
    "        return \"Δεν δόθηκαν αριθμοί\"\n",
    "\n",
    "    return len(args), max(args), min(args), sum(args)\n",
    "\n",
    "\n",
    "print(stats(5, 10, 3))\n",
    "print(stats(1, 2, 3, 4, 5))\n",
    "print(stats())  # χωρίς ορίσματα"
   ]
  },
  {
   "cell_type": "markdown",
   "id": "83df81c1",
   "metadata": {},
   "source": [
    "## Εμβέλεια μεταβλητών\n",
    "2.4 Γράψτε κώδικα που να διαχειρίζεται το σκορ ενός παίκτη σε ένα παιχνίδι χρησιμοποιώντας μια καθολική μεταβλητή.\n",
    "- Ορίστε μια καθολική μεταβλητή με όνομα score και αρχικοποιήστε την με 0.\n",
    "- Δημιουργήστε μια συνάρτηση `add_points(points)` που προσθέτει το `points` στο `score`.\n",
    "- Δημιουργήστε μια συνάρτηση `lose_points(points)` που αφαιρεί το `points` από το `score`. Χρησιμοποιήστε assert για να διασφαλίσετε ότι το `score` δεν γίνεται αρνητικό.\n",
    "- Δημιουργήστε μια συνάρτηση `show_score()` που εμφανίζει το τρέχον σκορ.\n",
    "\n",
    "Δοκιμάστε τις συναρτήσεις καλώντας τις με διαφορετικές τιμές ώστε να φανεί η λειτουργία τους."
   ]
  },
  {
   "cell_type": "code",
   "execution_count": 9,
   "id": "a3202419",
   "metadata": {},
   "outputs": [
    {
     "name": "stdout",
     "output_type": "stream",
     "text": [
      "Τρέχον σκορ: 10\n",
      "Τρέχον σκορ: 15\n",
      "Τρέχον σκορ: 8\n"
     ]
    }
   ],
   "source": [
    "# Λύση 2.4\n",
    "\n",
    "score = 0 # Καθολική μεταβλητή\n",
    "\n",
    "def add_points(points):\n",
    "    global score\n",
    "    score += points\n",
    "\n",
    "def lose_points(points):\n",
    "    global score\n",
    "    assert score - points >= 0, \"Το σκορ δεν μπορεί να γίνει αρνητικό!\"\n",
    "    score -= points\n",
    "\n",
    "def show_score():\n",
    "    print(f\"Τρέχον σκορ: {score}\")\n",
    "\n",
    "add_points(10)\n",
    "show_score()       \n",
    "add_points(5)\n",
    "show_score()       \n",
    "lose_points(7)\n",
    "show_score()       \n",
    "# lose_points(10)  # Αυτό θα προκαλέσει AssertionError\n"
   ]
  }
 ],
 "metadata": {
  "kernelspec": {
   "display_name": "venv",
   "language": "python",
   "name": "python3"
  },
  "language_info": {
   "codemirror_mode": {
    "name": "ipython",
    "version": 3
   },
   "file_extension": ".py",
   "mimetype": "text/x-python",
   "name": "python",
   "nbconvert_exporter": "python",
   "pygments_lexer": "ipython3",
   "version": "3.12.11"
  }
 },
 "nbformat": 4,
 "nbformat_minor": 5
}
