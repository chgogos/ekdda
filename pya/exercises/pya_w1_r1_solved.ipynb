{
 "cells": [
  {
   "cell_type": "markdown",
   "id": "f8b337ed",
   "metadata": {},
   "source": [
    "# ΕΚΔΔΑ - Python-A \n",
    "\n",
    "## Εργαστηριακή άσκηση 1 (R1)\n",
    "\n",
    "Ονοματεπώνυμο επιμορφούμενου: [συμπληρώστε εδώ το ονομά σας]\n",
    "\n",
    "## Εβδομάδα 1"
   ]
  },
  {
   "cell_type": "markdown",
   "id": "3fc2a81b",
   "metadata": {},
   "source": [
    "### Αριθμητικοί τελεστές\n",
    "1.1 Ποια είναι τα 5 πρώτα (από αριστερά προς τα δεξιά) ψηφία που προκύπτουν από την ακόλουθη πράξη; \n",
    "\n",
    "<img src=\"https://latex.codecogs.com/svg.image?&space;\\sqrt{\\frac{2^{101}}{11^{17}}}\">"
   ]
  },
  {
   "cell_type": "code",
   "execution_count": 2,
   "id": "12a668cd",
   "metadata": {},
   "outputs": [
    {
     "name": "stdout",
     "output_type": "stream",
     "text": [
      "2239633.51146214\n"
     ]
    }
   ],
   "source": [
    "# Λύση 1.1 \n",
    "x = (2**101/11**17)**0.5\n",
    "print(x)"
   ]
  },
  {
   "cell_type": "code",
   "execution_count": 3,
   "id": "741c978d",
   "metadata": {},
   "outputs": [
    {
     "name": "stdout",
     "output_type": "stream",
     "text": [
      "22396\n"
     ]
    }
   ],
   "source": [
    "# Λύση 1.1 (β' τρόπος)\n",
    "import math\n",
    "\n",
    "x = math.sqrt(2**101/11**17)\n",
    "print(str(x)[:5])"
   ]
  },
  {
   "cell_type": "markdown",
   "id": "6bcd25f8",
   "metadata": {},
   "source": [
    "### Μεταβλητές\n",
    "1.2 Αναθέστε τις τιμές 1, 2, 3 στις μεταβλητές a, b, c αντίστοιχα. Γράφοντας τις κατάλληλες εντολές πραγματοποιήστε δεξιά κυκλική ολίσθηση των τιμών, δηλαδή η τιμή της a να μεταφερθεί στη b, η τιμή της b να μεταφερθεί στη c και η τιμή της c να μεταφερθεί στη a. Εμφανίστε τις νέες τιμές των μεταβλητών. "
   ]
  },
  {
   "cell_type": "code",
   "execution_count": 2,
   "id": "0f9dfe49",
   "metadata": {},
   "outputs": [
    {
     "name": "stdout",
     "output_type": "stream",
     "text": [
      "a=3, b=1, c=2\n"
     ]
    }
   ],
   "source": [
    "# Λύση 1.2\n",
    "a, b, c = 1, 2, 3\n",
    "a, b, c = c, a, b\n",
    "print(f\"{a=}, {b=}, {c=}\")"
   ]
  },
  {
   "cell_type": "markdown",
   "id": "7c527770",
   "metadata": {},
   "source": [
    "### Εντολές επιλογής\n",
    "1.3 Γράψτε προγραμμα που να δέχεται τους συντελεστές $a$ και $b$ της πρωτοβάθμιας εξίσωσης $ax+b=0$ και να την επιλύει λαμβάνοντας υπόψη τις περιπτώσεις:\n",
    "- Αν $a=0$, $b=0$ τότε είναι εξίσωση είναι αόριστη\n",
    "- Αν $a=0$, $b \\neq 0$ τότε είναι εξίσωση είναι αδύνατη\n",
    "- Αν $a \\neq 0$ τότε η λύση είναι $x = \\frac{-b}{a}$"
   ]
  },
  {
   "cell_type": "code",
   "execution_count": 5,
   "id": "2f03e1a0",
   "metadata": {},
   "outputs": [
    {
     "name": "stdout",
     "output_type": "stream",
     "text": [
      "x=-2.0\n"
     ]
    }
   ],
   "source": [
    "# Λύση 1.3 (α' τρόπος)\n",
    "a = 1\n",
    "b = 2\n",
    "if a == 0:\n",
    "    if b == 0:\n",
    "        print(\"ΑΟΡΙΣΤΗ\")\n",
    "    else:\n",
    "        print(\"ΑΔΥΝΑΤΗ\")\n",
    "else:\n",
    "    x = -b / a\n",
    "    print(f\"{x=}\")"
   ]
  },
  {
   "cell_type": "code",
   "execution_count": 6,
   "id": "8e7962c9",
   "metadata": {},
   "outputs": [
    {
     "name": "stdout",
     "output_type": "stream",
     "text": [
      "x=-2.0\n"
     ]
    }
   ],
   "source": [
    "# Λύση 1.3 (β' τρόπος)\n",
    "a = 1\n",
    "b = 2\n",
    "if a == 0 and b == 0:\n",
    "    print(\"ΑΟΡΙΣΤΗ\")\n",
    "elif a == 0 and b != 0:\n",
    "    print(\"ΑΔΥΝΑΤΗ\")\n",
    "else:\n",
    "    x = -b / a\n",
    "    print(f\"{x=}\")"
   ]
  },
  {
   "cell_type": "markdown",
   "id": "22445060",
   "metadata": {},
   "source": [
    "1.4 Γράψτε πρόγραμμα που να δέχεται μια πρόταση και να εξετάζει αν είναι παλίνδρομη, δηλαδή αν διαβάζεται το ίδιο από αριστερά προς τα δεξιά και από δεξιά προς τα αριστερά. Βρείτε στο διαδίκτυο τη μεγαλύτερη σε μήκος πρόταση (στα Αγγλικά) που μπορείτε να εντοπίσετε και που έχει αυτή την ιδιότητα. Αγνοήστε κενά και το εάν τα γράμματα της πρότασης είναι κεφαλαία ή πεζά."
   ]
  },
  {
   "cell_type": "code",
   "execution_count": null,
   "id": "489e0267",
   "metadata": {},
   "outputs": [
    {
     "name": "stdout",
     "output_type": "stream",
     "text": [
      "The text 'A not secret sin is a sin if laid to rest' is not a palindrome\n"
     ]
    }
   ],
   "source": [
    "# Λύση 1.4\n",
    "s1 = \"A man a plan a canal Panama\"\n",
    "s2 = s1.replace(\" \", \"\")\n",
    "s2 = s2.upper()\n",
    "if s2 == s2[::-1]:\n",
    "    print(f\"The text '{s1}' of length {len(s1)} is a palindrome\")\n",
    "else:\n",
    "    print(f\"The text '{s1}' is not a palindrome\")"
   ]
  },
  {
   "cell_type": "markdown",
   "id": "19f4ab8b",
   "metadata": {},
   "source": [
    "### Εντολές επανάληψης\n",
    "\n",
    "1.5 Έστω μια τυπική σκακιέρα (8 x 8). Αν ξεκινήσουμε από την κάτω αριστερή θέση και διασχίσουμε τη σκακιέρα από αριστερά προς τα δεξιά και από κάτω προς τα πάνω τοποθετώντας 1 κόκκο ρυζιού στην πρώτη θέση και το διπλάσιο αριθμό κόκκων της προηγούμενης σε κάθε επόμενη θέση, να βρεθεί το πλήθος κόκκων ρυζιού που θα υπάρχουν συνολικά στην σκακιέρα. Αν ένα κιλό ρυζιού έχει περίπου 40.000 κόκκους, πόσα κιλά ρυζιού θα υπάρχουν στην σκακιέρα. "
   ]
  },
  {
   "cell_type": "code",
   "execution_count": null,
   "id": "22a8a73e",
   "metadata": {},
   "outputs": [
    {
     "name": "stdout",
     "output_type": "stream",
     "text": [
      "grains=18,446,744,073,709,551,615 kilograms=461,168,601,842,738.8\n"
     ]
    }
   ],
   "source": [
    "# Λύση 1.5\n",
    "tot = 0\n",
    "x = 1\n",
    "for i in range(64):\n",
    "    tot += x\n",
    "    x *= 2\n",
    "grains_in_kilo = 40_000\n",
    "print(f\"grains={tot:,}\", f\"kilograms={tot/grains_in_kilo:,}\")"
   ]
  },
  {
   "cell_type": "markdown",
   "id": "64cbf704",
   "metadata": {},
   "source": [
    "1.6 Μια κλειδαριά έχει κωδικό που αποτελείται από 3 ψηφία (0 έως και 9). Γνωρίζουμε τα ακόλουθα για τον κωδικό που ανοίγει την κλειδαριά:\n",
    "- το πρώτο και το τρίτο ψηφίο είναι ίδια\n",
    "- το δεύτερο ψηφίο απέχει το πολύ 2 από τα δύο άλλα ψηφία \n",
    "- το γινόμενο των ψηφίων είναι από 100 μέχρι 600 \n",
    "- το άθροισμα των ψηφίων είναι περιττός αριθμός\n",
    "  \n",
    "Εκτυπώστε μια λίστα με τους πιθανούς συνδυασμούς που ανοίγουν την κλειδαριά καθώς και το πλήθος τους."
   ]
  },
  {
   "cell_type": "code",
   "execution_count": 1,
   "id": "151e26eb",
   "metadata": {},
   "outputs": [
    {
     "name": "stdout",
     "output_type": "stream",
     "text": [
      "5 5 5\n",
      "5 7 5\n",
      "6 5 6\n",
      "6 7 6\n",
      "7 5 7\n",
      "7 7 7\n",
      "7 9 7\n",
      "8 7 8\n",
      "8 9 8\n",
      "9 7 9\n",
      "Potential codes 10\n"
     ]
    }
   ],
   "source": [
    "# Λύση 1.6\n",
    "c = 0\n",
    "for x in range(10):\n",
    "    for y in range(10):\n",
    "        if (-2 <= x - y <= 2) and 100 <= x * y * x <= 600 and (x + y + x) % 2 == 1:\n",
    "            print(x, y, x)\n",
    "            c += 1\n",
    "print(\"Potential codes\", c)"
   ]
  },
  {
   "cell_type": "code",
   "execution_count": null,
   "id": "6974b13b",
   "metadata": {},
   "outputs": [],
   "source": []
  }
 ],
 "metadata": {
  "kernelspec": {
   "display_name": "py312",
   "language": "python",
   "name": "python3"
  },
  "language_info": {
   "codemirror_mode": {
    "name": "ipython",
    "version": 3
   },
   "file_extension": ".py",
   "mimetype": "text/x-python",
   "name": "python",
   "nbconvert_exporter": "python",
   "pygments_lexer": "ipython3",
   "version": "3.12.2"
  }
 },
 "nbformat": 4,
 "nbformat_minor": 5
}
