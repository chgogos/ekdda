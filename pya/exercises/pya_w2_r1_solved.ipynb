{
 "cells": [
  {
   "cell_type": "markdown",
   "id": "f8b337ed",
   "metadata": {},
   "source": [
    "# ΕΚΔΔΑ - Python-A\n",
    "\n",
    "Ονοματεπώνυμο επιμορφούμενου: [συμπληρώστε εδώ το ονομά σας]\n",
    "\n",
    "## Εβδομάδα 2 - Τμηματικός Προγραμματισμός"
   ]
  },
  {
   "cell_type": "markdown",
   "id": "3fc2a81b",
   "metadata": {},
   "source": [
    "### Παράμετροι και ορίσματα\n",
    "2.1 Γράψτε μια συνάρτηση με όνομα `repeat_msg(msg, times)` η οποία δέχεται δύο παραμέτρους:\n",
    "- `msg` (συμβολοσειρά): το μήνυμα προς εμφάνιση\n",
    "- `times` (ακέραιος): το πλήθος των φορών που θα εμφανιστεί το μήνυμα\n",
    "\n",
    "Η συνάρτηση να εμφανίζει το μήνυμα `msg` σε ξεχωριστή γραμμή κάθε φορά, συνολικά `times` φορές. Καλέστε τη συνάρτηση ως εξής:\n",
    "\n",
    "```py\n",
    "repeat_msg(\"Hello\", 3)\n",
    "```"
   ]
  },
  {
   "cell_type": "code",
   "execution_count": 1,
   "id": "741c978d",
   "metadata": {},
   "outputs": [
    {
     "name": "stdout",
     "output_type": "stream",
     "text": [
      "Hello\n",
      "Hello\n",
      "Hello\n"
     ]
    }
   ],
   "source": [
    "# Λύση 2.1\n",
    "def repeat_msg(msg, times):\n",
    "    for _ in range(times):\n",
    "        print(msg)\n",
    "        \n",
    "repeat_msg(\"Hello\", 3)"
   ]
  },
  {
   "cell_type": "markdown",
   "id": "6bcd25f8",
   "metadata": {},
   "source": [
    "## Προαιρετικά ορίσματα, προκαθορισμένες τιμές συναρτήσεων\n",
    "2.2 Γράψτε μια συνάρτηση με όνομα `greet(name, greeting=\"Καλημέρα\")` η οποία δέχεται:\n",
    "\n",
    "- `name` (συμβολοσειρά): το όνομα του ατόμου\n",
    "- `greeting` (συμβολοσειρά, με προεπιλεγμένη τιμή \"Καλημέρα\")\n",
    "\n",
    "Η συνάρτηση να εμφανίζει στην οθόνη έναν χαιρετισμό της μορφής `Καλημέρα Μαρία`, αν κληθεί ως `greet(\"Μαρία\")`.\n",
    "\n",
    "Καλέστε 3 φορές τη συνάρτηση έτσι ώστε να εμφανίζονται τα μηνύματα:\n",
    "- `Καλημέρα Μαρία`\n",
    "- `Καλησπέρα Νίκο`\n",
    "- `Γεια Χρήστο`"
   ]
  },
  {
   "cell_type": "code",
   "execution_count": 4,
   "id": "0f9dfe49",
   "metadata": {},
   "outputs": [
    {
     "name": "stdout",
     "output_type": "stream",
     "text": [
      "Καλημέρα Μαρία\n",
      "Καλησπέρα Νίκο\n",
      "Γεια Χρήστο\n"
     ]
    }
   ],
   "source": [
    "# Λύση 2.2\n",
    "def greet(name, greeting=\"Καλημέρα\"):\n",
    "    print(f\"{greeting} {name}\")\n",
    "    \n",
    "greet(\"Μαρία\")\n",
    "greet(\"Νίκο\", \"Καλησπέρα\")\n",
    "greet(\"Χρήστο\", greeting=\"Γεια\")"
   ]
  },
  {
   "cell_type": "markdown",
   "id": "19f4ab8b",
   "metadata": {},
   "source": [
    "## Ορίσματα τύπου *args και τύπου **kwargs\n",
    "\n",
    "2.3 Γράψτε μια συνάρτηση με όνομα `average(*numbers)` η οποία δέχεται αυθαίρετο πλήθος αριθμητικών ορισμάτων και επιστρέφει το μέσο όρο τους. Καλέστε τη συνάρτηση για την εύρεση του μέσου όρου για τις ακόλουθες περιπτώσεις τιμών:\n",
    "- 7\n",
    "- 1, 2, 3, 4, 5\n",
    "- 0, 0, 0\n",
    "- 17.5, 20., 18.2, 19.5, 11.0, 13.2\n",
    "\n",
    "Τι θα συμβεί αν η συνάρτηση κληθεί ως: `average()`;"
   ]
  },
  {
   "cell_type": "markdown",
   "id": "01037122",
   "metadata": {},
   "source": [
    "2.4 Γράψτε μια συνάρτηση με όνομα `order(item, *extras, **details)` η οποία:\n",
    "- δέχεται υποχρεωτικά το όνομα ενός προϊόντος (item)\n",
    "- δέχεται προαιρετικά μια λίστα επιπλέον υλικών (*extras)\n",
    "- δέχεται προαιρετικά πληροφορίες παραγγελίας (**details).\n",
    "\n",
    "Η συνάρτηση να εμφανίζει:\n",
    "- Το προϊόν\n",
    "- Τα επιπλέον υλικά (αν υπάρχουν)\n",
    "- Τις λεπτομέρειες παραγγελίας (π.χ. διεύθυνση, τηλέφωνο) (αν υπάρχουν).\n",
    "\n",
    "Για την κλήση της συνάρτησης ως: \n",
    "\n",
    "`order(\"Pizza\", \"Cheese\", \"Olives\", address=\"Main St\", phone=\"12345\")`\n",
    "\n",
    "η αναμενόμενη έξοδος θα είναι:\n",
    "\n",
    "```\n",
    "item: Pizza\n",
    "Extras: Cheese, Olives\n",
    "Details:\n",
    "  address: Main St\n",
    "  phone: 12345\n",
    "```\n"
   ]
  },
  {
   "cell_type": "code",
   "execution_count": 6,
   "id": "22a8a73e",
   "metadata": {},
   "outputs": [
    {
     "name": "stdout",
     "output_type": "stream",
     "text": [
      "7.0\n",
      "3.0\n",
      "0.0\n",
      "16.566666666666666\n",
      "0\n"
     ]
    }
   ],
   "source": [
    "# Λύση 2.3\n",
    "def average(*args):\n",
    "    if not args:\n",
    "        return 0\n",
    "    total = 0\n",
    "    for x in args:\n",
    "        total += x\n",
    "    return total / len(args)\n",
    "\n",
    "print(average(7))\n",
    "print(average(1,2,3,4,5))\n",
    "print(average(0,0,0))\n",
    "print(average(17.5, 20., 18.2, 19.5, 11.0, 13.2))\n",
    "\n",
    "print(average())  "
   ]
  },
  {
   "cell_type": "code",
   "execution_count": 11,
   "id": "c07e4878",
   "metadata": {},
   "outputs": [
    {
     "name": "stdout",
     "output_type": "stream",
     "text": [
      "item: Pizza\n",
      "Extras: Cheese, Olives\n",
      "Details:\n",
      "  address: Main St\n",
      "  phone: 12345\n"
     ]
    }
   ],
   "source": [
    "# Λύση 2.4\n",
    "def order(item, *extras, **details):\n",
    "    print(f\"item: {item}\")\n",
    "    \n",
    "    if extras:  # αν υπάρχουν επιπλέον υλικά\n",
    "        print(\"Extras:\", \", \".join(extras))\n",
    "    \n",
    "    if details:  # αν υπάρχουν λεπτομέρειες\n",
    "        print(\"Details:\")\n",
    "        for key, value in details.items():\n",
    "            print(f\"  {key}: {value}\")\n",
    "\n",
    "\n",
    "# Παράδειγμα κλήσης\n",
    "order(\"Pizza\", \"Cheese\", \"Olives\", address=\"Main St\", phone=\"12345\")\n"
   ]
  },
  {
   "cell_type": "markdown",
   "id": "83df81c1",
   "metadata": {},
   "source": [
    "## Εμβέλεια μεταβλητών\n",
    "2.5 Γράψτε κώδικα που  να διαχειρίζεται το υπόλοιπο ενός τραπεζικού λογαριασμού χρησιμοποιώντας μια καθολική μεταβλητή.\n",
    "- Ορίστε μια καθολική μεταβλητή με όνομα `balance` και αρχικοποιήστε την με 0.\n",
    "- Δημιουργήστε μια συνάρτηση `deposit(amount)` που προσθέτει το `amount` στο `balance`.\n",
    "- Δημιουργήστε μια συνάρτηση `withdraw(amount)` που αφαιρεί το `amount` από το `balance`. Χρησιμοποιήστε assert για να διασφαλίσετε ότι το `balance` δεν γίνεται αρνητικό.\n",
    "- Δημιουργήστε μια συνάρτηση `show_balance()` που εμφανίζει το τρέχον υπόλοιπο.\n",
    "\n",
    "Δοκιμάστε τις συναρτήσεις κάνοντας μερικές κλήσεις τους."
   ]
  },
  {
   "cell_type": "code",
   "execution_count": 10,
   "id": "a3202419",
   "metadata": {},
   "outputs": [
    {
     "name": "stdout",
     "output_type": "stream",
     "text": [
      "Deposited: 100, New Balance: 100\n",
      "Withdrew: 30, New Balance: 70\n",
      "Current Balance: 70\n"
     ]
    }
   ],
   "source": [
    "# Λύση 2.5\n",
    "balance = 0\n",
    "def deposit(amount):\n",
    "    global balance\n",
    "    balance += amount\n",
    "    print(f\"Deposited: {amount}, New Balance: {balance}\")\n",
    "\n",
    "def withdraw(amount):\n",
    "    global balance\n",
    "    assert  amount <= balance, \"Insufficient funds\"\n",
    "    balance -= amount\n",
    "    print(f\"Withdrew: {amount}, New Balance: {balance}\")\n",
    "\n",
    "def show_balance():\n",
    "    print(f\"Current Balance: {balance}\")\n",
    "    \n",
    "deposit(100)\n",
    "withdraw(30)\n",
    "show_balance()\n",
    "# withdraw(80)  "
   ]
  },
  {
   "cell_type": "markdown",
   "id": "f929a534",
   "metadata": {},
   "source": [
    "## Αναδρομή\n",
    "2.6 Γράψτε μια αναδρομική συνάρτηση με όνομα `recursive_sum` που να δέχεται ως όρισμα έναν ακέραιο θετικό αριθμό `x`. Η συνάρτηση να επιστρέφει το άθροισμα όλων των ακεραίων από το 1 μέχρι και το `x`. Καλέστε τη `recursive_sum` με όρισμα το 5 και παρακολουθήστε μέσα από το [pythontutor](https://pythontutor.com/) την εκτέλεση του κωδικα (επισυνάψτε ένα σύνδεσμο προς την εκτέλεση του κώδικα στο pythontutor εδώ)"
   ]
  },
  {
   "cell_type": "code",
   "execution_count": 7,
   "id": "ad74a93e",
   "metadata": {},
   "outputs": [
    {
     "name": "stdout",
     "output_type": "stream",
     "text": [
      "15\n"
     ]
    }
   ],
   "source": [
    "# Λύση 2.6\n",
    "def recursive_sum(n):\n",
    "    if n <= 1:\n",
    "        return n\n",
    "    else:\n",
    "        return n + recursive_sum(n - 1)\n",
    "    \n",
    "print(recursive_sum(5)) "
   ]
  },
  {
   "cell_type": "markdown",
   "id": "0d73a0ee",
   "metadata": {},
   "source": [
    "https://pythontutor.com/render.html#code=def%20recursive_sum%28n%29%3A%0A%20%20%20%20if%20n%20%3C%3D%201%3A%0A%20%20%20%20%20%20%20%20return%20n%0A%20%20%20%20else%3A%0A%20%20%20%20%20%20%20%20return%20n%20%2B%20recursive_sum%28n%20-%201%29%0A%20%20%20%20%0Aprint%28recursive_sum%285%29%29&cumulative=false&curInstr=17&heapPrimitives=nevernest&mode=display&origin=opt-frontend.js&py=311&rawInputLstJSON=%5B%5D&textReferences=false"
   ]
  },
  {
   "cell_type": "markdown",
   "id": "207d2278",
   "metadata": {},
   "source": []
  }
 ],
 "metadata": {
  "kernelspec": {
   "display_name": "venv",
   "language": "python",
   "name": "python3"
  },
  "language_info": {
   "codemirror_mode": {
    "name": "ipython",
    "version": 3
   },
   "file_extension": ".py",
   "mimetype": "text/x-python",
   "name": "python",
   "nbconvert_exporter": "python",
   "pygments_lexer": "ipython3",
   "version": "3.12.11"
  }
 },
 "nbformat": 4,
 "nbformat_minor": 5
}
