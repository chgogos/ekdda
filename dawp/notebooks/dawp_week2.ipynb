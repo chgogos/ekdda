{
 "cells": [
  {
   "cell_type": "markdown",
   "id": "f8b337ed",
   "metadata": {},
   "source": [
    "# ΕΚΔΔΑ - ΑΝΑΛΥΣΗ ΔΕΔΟΜΕΝΩΝ ΜΕ ΤΗ ΓΛΩΣΣΑ ΠΡΟΓΡΑΜΜΑΤΙΣΜΟΥ PYTHON\n",
    "\n",
    "Ονοματεπώνυμο επιμορφούμενου: [συμπληρώστε εδώ το ονομά σας]\n",
    "\n",
    "## Εβδομάδα 2"
   ]
  },
  {
   "cell_type": "markdown",
   "id": "3fc2a81b",
   "metadata": {},
   "source": [
    "### Κλάσεις και αντικείμενα\n",
    "1.1 Δημιουργήστε μια κλάση με όνομα Interval που αναπαριστά ένα διάστημα της μορφής \\[from, to\\). Ο κατασκευαστής της κλάσης να δέχεται τιμές για τα δύο όρια και να προκαλεί εξαίρεση ValueError αν το from είναι μεγαλύτερο ή ίσο του to. Η κλάση θα έχει μέθοδο length() που επιστρέφει το μήκος του διαστήματος. Στη συνέχεια, ζητήστε από τον χρήστη να εισάγει 3 διαστήματα και για κάθε διάστημα να εμφανίζεται είτε μήνυμα σφάλματος αν προκύψει εξαίρεση είτε το μήκος του διαστήματος. \n",
    "\n",
    "**Για προχωρημένους**\n",
    "\n",
    "Προσθέστε στην κλάση τη μέθοδο overlaps(other) που θα επιστρέφει True αν το διάστημα αλληλεπικαλύπτεται με ένα άλλο διάστημα other, αλλιώς θα επιστρέφει False. Για παράδειγα τα διαστήματα \\[1,3\\) και \\[2,4\\) αλληλοεπικαλύπτονται, ενώ τα \\[1,3\\) και \\[3,5\\) όχι. Επιπλέον, ελέγξτε αν οποιοδήποτε από τα διαστήματα που εισήχθησαν αλληλεπικαλύπτονται μεταξύ τους και εμφανίστε τα ζεύγη που αυτό συμβαίνει. "
   ]
  },
  {
   "cell_type": "code",
   "execution_count": null,
   "id": "741c978d",
   "metadata": {},
   "outputs": [],
   "source": [
    "# Λύση 1.1\n"
   ]
  },
  {
   "cell_type": "markdown",
   "id": "d3c0e89b",
   "metadata": {},
   "source": [
    "### Κληρονομικότητα \n",
    "1.2 Να υλοποιήσετε την ακόλουθη μικρή ιεραρχία κλάσεων: δημιουργήστε μια βασική κλάση Vehicle με ιδιότητες όπως η μάρκα και το μοντέλο. Στη συνέχεια υλοποιήστε δύο υποκλάσεις, Car και Motorcycle, οι οποίες θα κληρονομούν από την Vehicle και θα προσθέτουν δικές τους ιδιότητες (π.χ. αριθμός θυρών για το αυτοκίνητο, κυβισμός για τη μοτοσυκλέτα). Προσθέστε τη μέθοδο `__str()__` σε κάθε κλάση. \n",
    "Δημιουργήστε τα ακόλουθα αντικείμενα:\n",
    "- Ένα αυτοκίνητο μάρκας Toyota, μοντέλο Corolla, με αριθμό θυρών 3\n",
    "- Ένα αυτοκίνητο μάρκας BMW, μοντέλο X5, με αριθμό θυρών 5\n",
    "- Μια μοτοσυκλέτα μάρκας Yamaha, μοντέλο MT-07, με κυβισμό 689cc\n",
    "\n",
    "Εμφανίστε τα αντικείμενα."
   ]
  },
  {
   "cell_type": "code",
   "execution_count": null,
   "id": "9edf34e1",
   "metadata": {},
   "outputs": [],
   "source": [
    "# Λύση 1.2"
   ]
  },
  {
   "cell_type": "markdown",
   "id": "6bcd25f8",
   "metadata": {},
   "source": [
    "### Αρχεία\n",
    "1.3 Κατεβάστε το αρχείο bigmac.csv από το <https://calmcode.io/datasets>. Διαβάστε τα δεδομένα με το module csv της Python. Εντοπίστε τις 3 χώρες με τις υψηλότερες τιμές big mac σε τιμές δολαρίων Αμερικής (dollar_price)."
   ]
  },
  {
   "cell_type": "code",
   "execution_count": null,
   "id": "0f9dfe49",
   "metadata": {},
   "outputs": [],
   "source": [
    "# Λύση 1.3 \n"
   ]
  },
  {
   "cell_type": "markdown",
   "id": "7c527770",
   "metadata": {},
   "source": [
    "### Βάσεις Δεδομένων\n",
    "1.4 Γράψτε κώδικα που να συνδέεται στη βάση δεδομένων Chinook που θα κατεβάσετε τοπικά από το <https://www.sqlitetutorial.net/sqlite-sample-database/>, χρησιμοποιώντας τη βιβλιοθήκη sqlite3. Στη συνέχεια να θέτει ερώτημα προς τη βάση που να επιστρέφει τα ονόματα και τα επώνυμα όλων των πελατών που υπάρχουν στον πίνακα Customers."
   ]
  },
  {
   "cell_type": "code",
   "execution_count": null,
   "id": "2f03e1a0",
   "metadata": {},
   "outputs": [],
   "source": [
    "# Λύση 1.4\n"
   ]
  },
  {
   "cell_type": "markdown",
   "id": "19f4ab8b",
   "metadata": {},
   "source": [
    "### Κανονικές εκφράσεις\n",
    "\n",
    "1.4 Για τα ακόλουθα ονόματα και τηλέφωνα:\n",
    "\n",
    "```\n",
    "Allison Neu 555-8396\n",
    "Bob Newhall 555-4344\n",
    "C. Montgomery Burns 555-0001\n",
    "C. Montgomery Burns 555-0113\n",
    "Canine College 555-7201\n",
    "Canine Therapy Institute 555-2849\n",
    "Cathy Neu 555-2362\n",
    "City of New York Parking Violation Bureau 555-BOOT\n",
    "Dr. Julius Hibbert 555-3642\n",
    "Dr. Nick Riviera 555-NICK\n",
    "Earn Cash For Your Teeth 555-6312\n",
    "Family Therapy Center 555-HUGS\n",
    "Homer Jay Simpson (Plow King episode) 555-3223\n",
    "Homer Jay Simpson (work) 555-7334\n",
    "Jack Neu 555-7666\n",
    "Jeb Neu 555-5543\n",
    "Jennifer Neu 555-3652\n",
    "Ken Neu 555-8752\n",
    "Lionel Putz 555-5299\n",
    "MAD Magazine 555-8628\n",
    "Marital Street Hotline 555-1680\n",
    "Marvin Monroe 555-3700\n",
    "Marvin Monroe's radio therapy show 555-PAIN\n",
    "Moe Szyslak (phone number spells SMITHERS) 7648-4377\n",
    "Moe Szyslak 555-0000\n",
    "Moe's Tavern 555-1239\n",
    "Mr. Plow 555-3226\n",
    "NY Metro 555-5680\n",
    "Ned Flanders 555-8904\n",
    "New York Parking Violation Bureau 555-2668\n",
    "ORB     Dr Nick's \"B\"argain Medical Services 1-800-DOCT\n",
    "Original Famous Ray's Pizza 555-PIZA\n",
    "Otto's \"How's my Driving\" 555-8821\n",
    "Plow King 555-4796\n",
    "Pretzel Wagon 555-3226\n",
    "Prof John Frink's Lab 555-5782\n",
    "Radio Psychaiatrist 555-7246\n",
    "Reverend Timothy Lovejoy 555-6542\n",
    "Richard Nash 555-9996\n",
    "Richard Newhall 555-9973\n",
    "Ruff-form Dog School 555-0078\n",
    "Santitarium for Dogs 555-9716\n",
    "Sleep-Eazy Motel 555-1000\n",
    "Sugar Truck 555-3872\n",
    "Susan Newhall 555-2362\n",
    "The Nuclear Powerplant 555-5246\n",
    "The Simpsons' residence 555-8707\n",
    "The Simpsons, 742 Evergreen Terrace 555-0113\n",
    "Toby Muntz 555-9972\n",
    "```\n",
    "\n",
    "Εντοπίστε όλους τους αριθμούς τηλεφώνου για καταχωρήσεις που περιέχουν τουλάχιστον μια λέξη που τελειώνει σε eu."
   ]
  },
  {
   "cell_type": "code",
   "execution_count": null,
   "id": "22a8a73e",
   "metadata": {},
   "outputs": [],
   "source": [
    "# Λύση 1.5\n"
   ]
  }
 ],
 "metadata": {
  "kernelspec": {
   "display_name": "venv",
   "language": "python",
   "name": "python3"
  },
  "language_info": {
   "codemirror_mode": {
    "name": "ipython",
    "version": 3
   },
   "file_extension": ".py",
   "mimetype": "text/x-python",
   "name": "python",
   "nbconvert_exporter": "python",
   "pygments_lexer": "ipython3",
   "version": "3.12.12"
  }
 },
 "nbformat": 4,
 "nbformat_minor": 5
}
